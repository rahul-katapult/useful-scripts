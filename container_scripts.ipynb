{
 "cells": [
  {
   "cell_type": "code",
   "execution_count": 1,
   "id": "34e0c391",
   "metadata": {},
   "outputs": [],
   "source": [
    "## Useful scripts for logging into a container"
   ]
  },
  {
   "cell_type": "code",
   "execution_count": 8,
   "id": "41414f97",
   "metadata": {},
   "outputs": [
    {
     "name": "stderr",
     "output_type": "stream",
     "text": [
      "  % Total    % Received % Xferd  Average Speed   Time    Time     Time  Current\n",
      "                                 Dload  Upload   Total   Spent    Left  Speed\n",
      "100 3481k  100 3481k    0     0  1433k      0  0:00:02  0:00:02 --:--:-- 1433k\n",
      "replace sessionmanager-bundle/NOTICE? [y]es, [n]o, [A]ll, [N]one, [r]ename:  NULL\n",
      "(EOF or read error, treating as \"[N]one\" ...)\n"
     ]
    },
    {
     "name": "stdout",
     "output_type": "stream",
     "text": [
      "Archive:  sessionmanager-bundle.zip\n",
      "Failed to create symlink.\n",
      "Please add /Users/rahul/Documents/work/useful-scripts/sessionmanager-bundle/bin to your $PATH to use Session Manager Plugin.\n"
     ]
    },
    {
     "data": {
      "text/plain": [
       "0"
      ]
     },
     "execution_count": 8,
     "metadata": {},
     "output_type": "execute_result"
    }
   ],
   "source": [
    "## Prerequisites, comment out sections as needed\n",
    "\n",
    "# Set Up AWS Vault: https://cognical.atlassian.net/wiki/spaces/TEC/pages/1668743173/AWS+account+Switch+role+manual\n",
    "\n",
    "# Get Security Token\n",
    "# Local system will prompt you for your AWS Vault password\n",
    "import os\n",
    "os.system(\"unset AWS_VAULT;aws-vault exec --duration=8h app-dev --\")\n",
    "\n",
    "# Download and install AWS Session Manager\n",
    "# The 3rd command will have to be run in a local terminal window\n",
    "os.system(\"curl \\\"https://s3.amazonaws.com/session-manager-downloads/plugin/latest/mac/sessionmanager-bundle.zip\\\" -o \\\"sessionmanager-bundle.zip\\\"\")\n",
    "os.system(\"unzip sessionmanager-bundle.zip\")\n",
    "os.system(\"sudo ./sessionmanager-bundle/install -i /usr/local/sessionmanagerplugin -b /usr/local/bin/session-manager-plugin\")\n"
   ]
  },
  {
   "cell_type": "code",
   "execution_count": 16,
   "id": "71e535fe",
   "metadata": {},
   "outputs": [
    {
     "name": "stdout",
     "output_type": "stream",
     "text": [
      "AWS Access Key ID [None]: "
     ]
    },
    {
     "name": "stderr",
     "output_type": "stream",
     "text": [
      "\n",
      "EOF when reading a line\n"
     ]
    },
    {
     "name": "stdout",
     "output_type": "stream",
     "text": [
      "program output: b''\n"
     ]
    },
    {
     "name": "stderr",
     "output_type": "stream",
     "text": [
      "\n",
      "Unable to locate credentials. You can configure credentials by running \"aws configure\".\n"
     ]
    }
   ],
   "source": [
    "## Get list of clusters in AWS app-dev environment\n",
    "import subprocess\n",
    "\n",
    "proc = subprocess.Popen([\"aws ecs list-clusters --region us-east-1\"], stdout=subprocess.PIPE, shell=True)\n",
    "(out, err) = proc.communicate()\n",
    "print(\"program output: {}\".format(out))"
   ]
  },
  {
   "cell_type": "code",
   "execution_count": null,
   "id": "62a1cb06",
   "metadata": {},
   "outputs": [],
   "source": []
  },
  {
   "cell_type": "code",
   "execution_count": null,
   "id": "d966d827",
   "metadata": {},
   "outputs": [],
   "source": []
  }
 ],
 "metadata": {
  "kernelspec": {
   "display_name": "Python 3 (ipykernel)",
   "language": "python",
   "name": "python3"
  },
  "language_info": {
   "codemirror_mode": {
    "name": "ipython",
    "version": 3
   },
   "file_extension": ".py",
   "mimetype": "text/x-python",
   "name": "python",
   "nbconvert_exporter": "python",
   "pygments_lexer": "ipython3",
   "version": "3.9.6"
  }
 },
 "nbformat": 4,
 "nbformat_minor": 5
}
